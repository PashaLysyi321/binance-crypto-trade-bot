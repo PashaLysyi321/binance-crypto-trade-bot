{
 "cells": [
  {
   "cell_type": "code",
   "execution_count": null,
   "id": "protective-literacy",
   "metadata": {},
   "outputs": [],
   "source": [
    "from binance.client import Client\n",
    "import pandas as pd\n",
    "import ta\n",
    "from binance.exceptions import BinanceAPIException\n",
    "from time import sleep\n",
    "from IPython.display import clear_output"
   ]
  },
  {
   "cell_type": "code",
   "execution_count": null,
   "id": "ideal-interaction",
   "metadata": {},
   "outputs": [],
   "source": [
    "client = Client(api_key=api_key, api_secret=secret)"
   ]
  },
  {
   "cell_type": "code",
   "execution_count": null,
   "id": "incorrect-rachel",
   "metadata": {},
   "outputs": [],
   "source": [
    "def klines_1m_15m(symbol):\n",
    "    try:\n",
    "        df = pd.DataFrame(client.get_historical_klines(symbol, '1m', '180m UTC'))\n",
    "        df = df.iloc[:,:6]\n",
    "        df.columns =['Time','Open','High','Low','Close','Volume']\n",
    "        df = df.set_index('Time')\n",
    "        df.index = pd.to_datetime(df.index, unit='ms')\n",
    "        df = df.astype(float)\n",
    "        return df\n",
    "    except BinanceAPIException as e:\n",
    "        print(e)\n",
    "\n",
    "def klines_1s_60s(symbol):\n",
    "    try:\n",
    "        df = pd.DataFrame(client.get_historical_klines(symbol, '1s', '60s UTC'))\n",
    "        df = df.iloc[:,:6]\n",
    "        df.columns =['Time','Open','High','Low','Close','Volume']\n",
    "        df = df.set_index('Time')\n",
    "        df.index = pd.to_datetime(df.index, unit='ms')\n",
    "        df = df.astype(float)\n",
    "        return df\n",
    "    except BinanceAPIException as e:\n",
    "        print(e)\n",
    "        \n",
    "def strategy(symbol, qty, open_position=False):\n",
    "\n",
    "    df = klines_1m_15m(symbol)\n",
    "    buy = df.Close.mean()*0.999\n",
    "    close = buy*1.003\n",
    "    print(buy, close)\n",
    "    \n",
    "    \n",
    "for i in range(100000000):\n",
    "    strategy(symbol='BTCUSDT', qty=0.0038)\n",
    "    clear_output(wait=True)"
   ]
  },
  {
   "cell_type": "code",
   "execution_count": null,
   "id": "automated-saturn",
   "metadata": {},
   "outputs": [],
   "source": [
    "qty=0.0038*1\n",
    "buyprice=28948.77000000\n",
    "sellprice = buyprice*1.002\n",
    "\n",
    "buyprice, sellprice, sellprice*qty*0.999-buyprice*qty"
   ]
  },
  {
   "cell_type": "code",
   "execution_count": null,
   "id": "relevant-champagne",
   "metadata": {},
   "outputs": [],
   "source": []
  }
 ],
 "metadata": {
  "kernelspec": {
   "display_name": "Python 3 (ipykernel)",
   "language": "python",
   "name": "python3"
  },
  "language_info": {
   "codemirror_mode": {
    "name": "ipython",
    "version": 3
   },
   "file_extension": ".py",
   "mimetype": "text/x-python",
   "name": "python",
   "nbconvert_exporter": "python",
   "pygments_lexer": "ipython3",
   "version": "3.8.7"
  }
 },
 "nbformat": 4,
 "nbformat_minor": 5
}
